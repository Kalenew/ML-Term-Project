{
 "cells": [
  {
   "cell_type": "code",
   "execution_count": 1,
   "metadata": {},
   "outputs": [],
   "source": [
    "import numpy as np\n",
    "import matplotlib.pyplot as plt\n",
    "from matplotlib.colors import ListedColormap\n",
    "from sklearn import svm,metrics\n",
    "\n",
    "from sklearn.datasets import fetch_openml\n",
    "from sklearn.preprocessing import StandardScaler\n",
    "from sklearn.model_selection import train_test_split\n",
    "from sklearn import preprocessing\n",
    "\n",
    "import seaborn as sns\n",
    "import pandas as pd\n",
    "\n",
    "credit = fetch_openml(name = 'credit-approval')"
   ]
  },
  {
   "cell_type": "code",
   "execution_count": 116,
   "metadata": {},
   "outputs": [],
   "source": [
    "X = credit.data\n",
    "y = credit.target \n",
    "loc = np.where(np.isnan(X[:,0]))\n",
    "X[:] = np.nan_to_num(X[:])\n",
    "# X[:,1] = np.nan_to_num(X[:,1])\n",
    "X = StandardScaler().fit_transform(X)\n",
    "X_train, X_test, y_train, y_test = \\\n",
    "        train_test_split(X, y, test_size=.2,random_state=42)\n",
    "\n",
    "le = preprocessing.LabelEncoder()\n",
    "cytrain=le.fit(y_train)\n",
    "cytrain=le.transform(y_train)\n",
    "cytest= le.transform(y_test)\n",
    "\n",
    "# fit the model\n",
    "h=0.02\n",
    "x0_min, x0_max = X[:, 0].min() - .5, X[:, 0].max() + .5\n",
    "x1_min, x1_max = X[:, 1].min() - .5, X[:, 1].max() + .5\n",
    "x2_min, x2_max = X[:, 2].min() - .5, X[:, 2].max() + .5\n",
    "x3_min, x3_max = X[:, 3].min() - .5, X[:, 3].max() + .5\n",
    "x4_min, x4_max = X[:, 4].min() - .5, X[:, 4].max() + .5\n",
    "x5_min, x5_max = X[:, 5].min() - .5, X[:, 5].max() + .5\n",
    "x6_min, x6_max = X[:, 6].min() - .5, X[:, 6].max() + .5\n",
    "x7_min, x7_max = X[:, 7].min() - .5, X[:, 7].max() + .5\n",
    "x8_min, x8_max = X[:, 8].min() - .5, X[:, 8].max() + .5\n",
    "x9_min, x9_max = X[:, 9].min() - .5, X[:, 9].max() + .5\n",
    "x10_min, x10_max = X[:, 10].min() - .5, X[:, 10].max() + .5\n",
    "x11_min, x11_max = X[:, 11].min() - .5, X[:, 11].max() + .5\n",
    "x12_min, x12_max = X[:, 12].min() - .5, X[:, 12].max() + .5\n",
    "x13_min, x13_max = X[:, 13].min() - .5, X[:, 13].max() + .5\n",
    "x14_min, x14_max = X[:, 14].min() - .5, X[:, 14].max() + .5\n",
    "\n",
    "x0,x1,x2= np.meshgrid(np.arange(x0_min, x0_max, h),\n",
    "                                                                np.arange(x1_min, x1_max, h),\n",
    "                                                                np.arange(x2_min, x2_max, h))\n",
    "# clf =svm.SVC(kernel = 'linear',gamma='auto')\n",
    "# clf.fit(X_train,y_train)\n",
    "\n",
    "# plt.figure(figsize=(8,6))\n",
    "# plt.clf()\n",
    "# cm = plt.cm.RdBu\n",
    "# cm_bright = ListedColormap(['#FF0000', '#0000FF'])\n",
    "# plt.scatter(X_train[:,0],X_train[:,1],c=cytrain, cmap=cm_bright,edgecolor='k', s=40)\n",
    "\n",
    "# Xpred = np.array([xx.ravel(), yy.ravel()] + [np.repeat(0, xx.ravel().size) for _ in range(13)]).T\n",
    "# if hasattr(clf, \"decision_function\"):\n",
    "#     Z = clf.decision_function(Xpred).reshape(xx.shape)\n",
    "# else:\n",
    "#     Z = clf.predict_proba(np.c_[xx.ravel(), yy.ravel()] )[:, 1]\n",
    "# # Z = Z.reshape(xx.shape)\n",
    "# plt.contourf(xx, yy, Z, cmap=cm, alpha=.8)\n",
    "# decision = clf.predict(X_test)\n",
    "\n",
    "# # circle the test data\n",
    "# plt.scatter(X_test[:,0],X_test[:,1],c=cytest, cmap=cm_bright,s=42,edgecolor='W',alpha=0.6)\n",
    "\n",
    "# YY = pd.DataFrame(X[:,:5])\n",
    "# sns.set(style=\"ticks\", color_codes=True)\n",
    "# g=sns.pairplot(YY, palette=\"husl\"); \n",
    "# plt.tight_layout()"
   ]
  },
  {
   "cell_type": "code",
   "execution_count": 102,
   "metadata": {},
   "outputs": [
    {
     "name": "stdout",
     "output_type": "stream",
     "text": [
      "Confusion matrix:\n",
      "[[57 13]\n",
      " [12 56]]\n"
     ]
    },
    {
     "data": {
      "text/plain": [
       "0.8188405797101449"
      ]
     },
     "execution_count": 102,
     "metadata": {},
     "output_type": "execute_result"
    }
   ],
   "source": [
    "# print(\"Classification report for classifier %s:\\n%s\\n\"\n",
    "#       % (clf, metrics.classification_report(y_test, decision)))\n",
    "print(\"Confusion matrix:\\n%s\" % metrics.confusion_matrix(y_test, decision))\n",
    "clf.score(X_test,y_test)"
   ]
  },
  {
   "cell_type": "code",
   "execution_count": 4,
   "metadata": {},
   "outputs": [],
   "source": [
    "# n_sample = len(X)\n",
    "\n",
    "# np.random.seed(0)\n",
    "# order = np.random.permutation(n_sample)\n",
    "\n",
    "# X_train = X[:int(.9 * n_sample)]\n",
    "# y_train = y[:int(.9 * n_sample)]\n",
    "# X_test = X[int(.9 * n_sample):]\n",
    "# y_test = y[int(.9 * n_sample):]"
   ]
  },
  {
   "cell_type": "code",
   "execution_count": 50,
   "metadata": {},
   "outputs": [
    {
     "data": {
      "text/plain": [
       "(690, 15)"
      ]
     },
     "execution_count": 50,
     "metadata": {},
     "output_type": "execute_result"
    }
   ],
   "source": [
    "X.shape"
   ]
  },
  {
   "cell_type": "code",
   "execution_count": 51,
   "metadata": {},
   "outputs": [
    {
     "data": {
      "text/plain": [
       "array([ 1.51185789,  2.20448744, -0.06005053, -0.55635458, -0.55635458,\n",
       "        0.4822183 , -0.06799595,  0.24419044, -0.95465038, -1.15714435,\n",
       "        0.74082993,  0.91919518, -0.31717105, -0.79121315, -0.08785188])"
      ]
     },
     "execution_count": 51,
     "metadata": {},
     "output_type": "execute_result"
    }
   ],
   "source": [
    "X[1]"
   ]
  },
  {
   "cell_type": "code",
   "execution_count": 105,
   "metadata": {},
   "outputs": [
    {
     "data": {
      "text/plain": [
       "369.90007054667365"
      ]
     },
     "execution_count": 105,
     "metadata": {},
     "output_type": "execute_result"
    }
   ],
   "source": [
    "(y_max-y_min)/0.02\n"
   ]
  },
  {
   "cell_type": "code",
   "execution_count": 70,
   "metadata": {},
   "outputs": [
    {
     "data": {
      "text/plain": [
       "13"
      ]
     },
     "execution_count": 70,
     "metadata": {},
     "output_type": "execute_result"
    }
   ],
   "source": [
    "atr"
   ]
  },
  {
   "cell_type": "code",
   "execution_count": 109,
   "metadata": {},
   "outputs": [
    {
     "data": {
      "text/plain": [
       "-0.0878518797046416"
      ]
     },
     "execution_count": 109,
     "metadata": {},
     "output_type": "execute_result"
    }
   ],
   "source": [
    "X[1,14]"
   ]
  },
  {
   "cell_type": "code",
   "execution_count": null,
   "metadata": {},
   "outputs": [],
   "source": []
  }
 ],
 "metadata": {
  "kernelspec": {
   "display_name": "Python 3",
   "language": "python",
   "name": "python3"
  },
  "language_info": {
   "codemirror_mode": {
    "name": "ipython",
    "version": 3
   },
   "file_extension": ".py",
   "mimetype": "text/x-python",
   "name": "python",
   "nbconvert_exporter": "python",
   "pygments_lexer": "ipython3",
   "version": "3.7.3"
  }
 },
 "nbformat": 4,
 "nbformat_minor": 2
}
